{
 "cells": [
  {
   "cell_type": "markdown",
   "metadata": {},
   "source": [
    "# Trying to check if the python script can guess what the person is speaking in the audio"
   ]
  },
  {
   "cell_type": "code",
   "execution_count": 2,
   "metadata": {},
   "outputs": [
    {
     "name": "stdout",
     "output_type": "stream",
     "text": [
      "this place be going down when you hear that 3 + 6 sound\n"
     ]
    }
   ],
   "source": [
    "# Script for the same\n",
    "\n",
    "import pydub\n",
    "from pydub import AudioSegment\n",
    "import speech_recognition as sr\n",
    "\n",
    "# Load the MP3 file\n",
    "audio = AudioSegment.from_file(\"latest_input.wav\")\n",
    "\n",
    "# Convert the audio to WAV format (required by the speech recognition library)\n",
    "wav_audio = audio.set_frame_rate(16000).set_channels(1)\n",
    "wav_audio.export(\"output.wav\", format=\"wav\")\n",
    "\n",
    "# Use the speech recognition library to recognize the speech\n",
    "r = sr.Recognizer()\n",
    "with sr.AudioFile(\"output.wav\") as source:\n",
    "    audio_data = r.record(source)\n",
    "    text = r.recognize_google(audio_data)\n",
    "\n",
    "# Print the recognized text\n",
    "print(text)"
   ]
  },
  {
   "cell_type": "code",
   "execution_count": 3,
   "metadata": {},
   "outputs": [],
   "source": [
    "# Analysed the audio by slowing down to each bit and seems that the audio is pretty accurately determined specially at the \" 3 + 6 \" part\n",
    "# Where there might be a confusion for \"Triple Six\" to be said."
   ]
  },
  {
   "cell_type": "code",
   "execution_count": 6,
   "metadata": {},
   "outputs": [
    {
     "name": "stderr",
     "output_type": "stream",
     "text": [
      "C:\\Users\\aryan\\AppData\\Local\\Temp\\ipykernel_17660\\1608227863.py:5: UserWarning: PySoundFile failed. Trying audioread instead.\n",
      "  y, sr = librosa.load(\"latest_input.wav\")\n"
     ]
    },
    {
     "ename": "AttributeError",
     "evalue": "No librosa attribute beats_to_audio",
     "output_type": "error",
     "traceback": [
      "\u001b[1;31m---------------------------------------------------------------------------\u001b[0m",
      "\u001b[1;31mAttributeError\u001b[0m                            Traceback (most recent call last)",
      "Cell \u001b[1;32mIn[6], line 18\u001b[0m\n\u001b[0;32m     15\u001b[0m beat_times \u001b[38;5;241m=\u001b[39m np\u001b[38;5;241m.\u001b[39mlinspace(onset_times[\u001b[38;5;241m0\u001b[39m], onset_times[\u001b[38;5;241m-\u001b[39m\u001b[38;5;241m1\u001b[39m], num\u001b[38;5;241m=\u001b[39m\u001b[38;5;28mint\u001b[39m(sr \u001b[38;5;241m*\u001b[39m \u001b[38;5;241m5\u001b[39m))\n\u001b[0;32m     17\u001b[0m \u001b[38;5;66;03m# Export the beat track as a new audio file\u001b[39;00m\n\u001b[1;32m---> 18\u001b[0m beat_audio \u001b[38;5;241m=\u001b[39m librosa\u001b[38;5;241m.\u001b[39mbeats_to_audio(beat_times, sr\u001b[38;5;241m=\u001b[39msr)\n\u001b[0;32m     19\u001b[0m librosa\u001b[38;5;241m.\u001b[39moutput\u001b[38;5;241m.\u001b[39mwrite_wav(\u001b[38;5;124m\"\u001b[39m\u001b[38;5;124moutput.wav\u001b[39m\u001b[38;5;124m\"\u001b[39m, beat_audio, sr)\n",
      "File \u001b[1;32mc:\\ProgramData\\anaconda3\\Lib\\site-packages\\lazy_loader\\__init__.py:88\u001b[0m, in \u001b[0;36mattach.<locals>.__getattr__\u001b[1;34m(name)\u001b[0m\n\u001b[0;32m     86\u001b[0m     \u001b[38;5;28;01mreturn\u001b[39;00m attr\n\u001b[0;32m     87\u001b[0m \u001b[38;5;28;01melse\u001b[39;00m:\n\u001b[1;32m---> 88\u001b[0m     \u001b[38;5;28;01mraise\u001b[39;00m \u001b[38;5;167;01mAttributeError\u001b[39;00m(\u001b[38;5;124mf\u001b[39m\u001b[38;5;124m\"\u001b[39m\u001b[38;5;124mNo \u001b[39m\u001b[38;5;132;01m{\u001b[39;00mpackage_name\u001b[38;5;132;01m}\u001b[39;00m\u001b[38;5;124m attribute \u001b[39m\u001b[38;5;132;01m{\u001b[39;00mname\u001b[38;5;132;01m}\u001b[39;00m\u001b[38;5;124m\"\u001b[39m)\n",
      "\u001b[1;31mAttributeError\u001b[0m: No librosa attribute beats_to_audio"
     ]
    }
   ],
   "source": [
    "import librosa\n",
    "import numpy as np\n",
    "\n",
    "# Load the WAV file\n",
    "y, sr = librosa.load(\"latest_input.wav\")\n",
    "\n",
    "# Perform onset detection to identify the beat locations\n",
    "onset_envelope = librosa.onset.onset_strength(y=y, sr=sr)\n",
    "onset_frames = librosa.onset.onset_detect(onset_envelope=onset_envelope, sr=sr)\n",
    "\n",
    "# Convert the onset frames to time values\n",
    "onset_times = librosa.frames_to_time(onset_frames, sr=sr)\n",
    "\n",
    "# Create a new beat track by interpolating the onset times\n",
    "beat_times = np.linspace(onset_times[0], onset_times[-1], num=int(sr * 5))\n",
    "\n",
    "# Export the beat track as a new audio file\n",
    "beat_audio = librosa.beats_to_audio(beat_times, sr=sr)\n",
    "librosa.output.write_wav(\"output.wav\", beat_audio, sr)"
   ]
  },
  {
   "cell_type": "code",
   "execution_count": 11,
   "metadata": {},
   "outputs": [
    {
     "name": "stderr",
     "output_type": "stream",
     "text": [
      "C:\\Users\\aryan\\AppData\\Local\\Temp\\ipykernel_17660\\3670970376.py:5: UserWarning: PySoundFile failed. Trying audioread instead.\n",
      "  y, sr = librosa.load(\"latest_input.wav\")\n"
     ]
    },
    {
     "ename": "IndexError",
     "evalue": "tuple index out of range",
     "output_type": "error",
     "traceback": [
      "\u001b[1;31m---------------------------------------------------------------------------\u001b[0m",
      "\u001b[1;31mIndexError\u001b[0m                                Traceback (most recent call last)",
      "Cell \u001b[1;32mIn[11], line 18\u001b[0m\n\u001b[0;32m     15\u001b[0m beat_times \u001b[38;5;241m=\u001b[39m np\u001b[38;5;241m.\u001b[39mlinspace(onset_times[\u001b[38;5;241m0\u001b[39m], onset_times[\u001b[38;5;241m-\u001b[39m\u001b[38;5;241m1\u001b[39m], num\u001b[38;5;241m=\u001b[39m\u001b[38;5;28mint\u001b[39m(sr \u001b[38;5;241m*\u001b[39m \u001b[38;5;241m5\u001b[39m))\n\u001b[0;32m     17\u001b[0m \u001b[38;5;66;03m# Convert beat times to a time-domain signal\u001b[39;00m\n\u001b[1;32m---> 18\u001b[0m beat_audio \u001b[38;5;241m=\u001b[39m librosa\u001b[38;5;241m.\u001b[39mistft(beat_times, hop_length\u001b[38;5;241m=\u001b[39m\u001b[38;5;241m512\u001b[39m, win_length\u001b[38;5;241m=\u001b[39m\u001b[38;5;241m1024\u001b[39m)\n\u001b[0;32m     20\u001b[0m \u001b[38;5;66;03m# Export the beat track as a new audio file\u001b[39;00m\n\u001b[0;32m     21\u001b[0m librosa\u001b[38;5;241m.\u001b[39moutput\u001b[38;5;241m.\u001b[39mwrite_wav(\u001b[38;5;124m\"\u001b[39m\u001b[38;5;124moutput.wav\u001b[39m\u001b[38;5;124m\"\u001b[39m, beat_audio, sr)\n",
      "File \u001b[1;32mc:\\ProgramData\\anaconda3\\Lib\\site-packages\\librosa\\core\\spectrum.py:496\u001b[0m, in \u001b[0;36mistft\u001b[1;34m(stft_matrix, hop_length, win_length, n_fft, window, center, dtype, length, out)\u001b[0m\n\u001b[0;32m    397\u001b[0m \u001b[38;5;250m\u001b[39m\u001b[38;5;124;03m\"\"\"\u001b[39;00m\n\u001b[0;32m    398\u001b[0m \u001b[38;5;124;03mInverse short-time Fourier transform (ISTFT).\u001b[39;00m\n\u001b[0;32m    399\u001b[0m \n\u001b[1;32m   (...)\u001b[0m\n\u001b[0;32m    493\u001b[0m \u001b[38;5;124;03m8.940697e-08\u001b[39;00m\n\u001b[0;32m    494\u001b[0m \u001b[38;5;124;03m\"\"\"\u001b[39;00m\n\u001b[0;32m    495\u001b[0m \u001b[38;5;28;01mif\u001b[39;00m n_fft \u001b[38;5;129;01mis\u001b[39;00m \u001b[38;5;28;01mNone\u001b[39;00m:\n\u001b[1;32m--> 496\u001b[0m     n_fft \u001b[38;5;241m=\u001b[39m \u001b[38;5;241m2\u001b[39m \u001b[38;5;241m*\u001b[39m (stft_matrix\u001b[38;5;241m.\u001b[39mshape[\u001b[38;5;241m-\u001b[39m\u001b[38;5;241m2\u001b[39m] \u001b[38;5;241m-\u001b[39m \u001b[38;5;241m1\u001b[39m)\n\u001b[0;32m    498\u001b[0m \u001b[38;5;66;03m# By default, use the entire frame\u001b[39;00m\n\u001b[0;32m    499\u001b[0m \u001b[38;5;28;01mif\u001b[39;00m win_length \u001b[38;5;129;01mis\u001b[39;00m \u001b[38;5;28;01mNone\u001b[39;00m:\n",
      "\u001b[1;31mIndexError\u001b[0m: tuple index out of range"
     ]
    }
   ],
   "source": [
    "import librosa\n",
    "import numpy as np\n",
    "\n",
    "# Load the WAV file\n",
    "y, sr = librosa.load(\"latest_input.wav\")\n",
    "\n",
    "# Perform onset detection to identify the beat locations\n",
    "onset_envelope = librosa.onset.onset_strength(y=y, sr=sr)\n",
    "onset_frames = librosa.onset.onset_detect(onset_envelope=onset_envelope, sr=sr)\n",
    "\n",
    "# Convert the onset frames to time values\n",
    "onset_times = librosa.frames_to_time(onset_frames, sr=sr)\n",
    "\n",
    "# Create a new beat track by interpolating the onset times\n",
    "beat_times = np.linspace(onset_times[0], onset_times[-1], num=int(sr * 5))\n",
    "\n",
    "# Convert beat times to a time-domain signal\n",
    "beat_audio = librosa.istft(beat_times, hop_length=512, win_length=1024)\n",
    "\n",
    "# Export the beat track as a new audio file\n",
    "librosa.output.write_wav(\"output.wav\", beat_audio, sr)"
   ]
  },
  {
   "cell_type": "code",
   "execution_count": 2,
   "metadata": {},
   "outputs": [],
   "source": [
    "#Poojan latest\n",
    "import numpy as np\n",
    "import librosa\n",
    "import soundfile as sf\n",
    "import audioread\n",
    "\n",
    "def simple_delay_reverb(audio, sr, delay_ms=300, decay=0, repeats=2):\n",
    "    delay_samples = int(sr * delay_ms / 1000)\n",
    "    output = np.copy(audio)\n",
    "    for _ in range(repeats):\n",
    "        delayed = np.zeros_like(output)\n",
    "        delayed[delay_samples:] = output[:-delay_samples]\n",
    "        output += delayed * decay\n",
    "    output = output / np.max(np.abs(output))\n",
    "    return output\n",
    "\n",
    "def load_audio_with_fallback(file_path, sr=None):\n",
    "    try:\n",
    "        return librosa.load(file_path, sr=sr)\n",
    "    except Exception as e:\n",
    "        print(f\"Failed to load with librosa due to: {e}. Falling back to audioread.\")\n",
    "        with audioread.audio_open(file_path) as f:\n",
    "            data = np.hstack([np.frombuffer(chunk, np.int16) for chunk in f])\n",
    "            if sr is not None:\n",
    "                data = librosa.resample(data.astype(float), f.samplerate, sr)\n",
    "            return data, sr\n",
    "\n",
    "def modify_vocals(vocals_filename, beat_filename, output_filename, volume_gain=2.0, beat_start_time=0.0, pitch_shift_semitones=0):\n",
    "    vocals, sr_vocals = load_audio_with_fallback(vocals_filename, sr=None)\n",
    "    beat, sr_beat = load_audio_with_fallback(beat_filename, sr=sr_vocals)\n",
    "\n",
    "    if pitch_shift_semitones != 0:\n",
    "        vocals = librosa.effects.pitch_shift(vocals, sr_vocals, pitch_shift_semitones)\n",
    "\n",
    "    vocals = simple_delay_reverb(vocals, sr_vocals)\n",
    "\n",
    "    start_sample = int(beat_start_time * sr_beat)\n",
    "    if start_sample < len(beat):\n",
    "        beat = beat[start_sample:]\n",
    "    else:\n",
    "        raise ValueError(\"Beat start time exceeds the length of the beat track.\")\n",
    "\n",
    "    vocals = vocals * volume_gain\n",
    "\n",
    "    min_length = min(len(vocals), len(beat))\n",
    "    vocals = vocals[:min_length]\n",
    "    beat = beat[:min_length]\n",
    "\n",
    "    mixed = vocals + beat\n",
    "    mixed = mixed / np.max(np.abs(mixed))\n",
    "\n",
    "    sf.write(output_filename, mixed, sr_vocals)\n",
    "\n",
    "def main():\n",
    "    vocals_file = r\"latest_input.wav\"\n",
    "    beat_file = r\"Beat.wav\"\n",
    "    output_file = r\"Final_P_O_3.wav\"\n",
    "\n",
    "    modify_vocals(vocals_file, beat_file, output_file, volume_gain=1.0, beat_start_time=3.2, pitch_shift_semitones=0)\n",
    "\n",
    "if __name__ == \"__main__\":\n",
    "    main()"
   ]
  },
  {
   "cell_type": "code",
   "execution_count": null,
   "metadata": {},
   "outputs": [],
   "source": []
  }
 ],
 "metadata": {
  "kernelspec": {
   "display_name": "base",
   "language": "python",
   "name": "python3"
  },
  "language_info": {
   "codemirror_mode": {
    "name": "ipython",
    "version": 3
   },
   "file_extension": ".py",
   "mimetype": "text/x-python",
   "name": "python",
   "nbconvert_exporter": "python",
   "pygments_lexer": "ipython3",
   "version": "3.11.5"
  }
 },
 "nbformat": 4,
 "nbformat_minor": 2
}
