{
 "cells": [
  {
   "cell_type": "markdown",
   "metadata": {},
   "source": [
    "### Convert Vocals to Phonk Style (Experimental)"
   ]
  },
  {
   "cell_type": "markdown",
   "metadata": {},
   "source": [
    "#### 1st Try with Output as Female"
   ]
  },
  {
   "cell_type": "code",
   "execution_count": 1,
   "metadata": {},
   "outputs": [],
   "source": [
    "from pydub import AudioSegment\n",
    "from pydub.effects import speedup\n",
    "\n",
    "def convert_to_phonk(file_path):\n",
    "    audio = AudioSegment.from_mp3(file_path)\n",
    "    \n",
    "    # Pitch shift (simple approach by changing frame rate)\n",
    "    pitch_shifted = audio._spawn(audio.raw_data, overrides={\n",
    "         \"frame_rate\": int(audio.frame_rate * 1.35555)  # Adjust this factor as needed\n",
    "    }).set_frame_rate(audio.frame_rate)\n",
    "    \n",
    "    # Speed up slightly for phonk effect\n",
    "    phonk_audio = speedup(pitch_shifted, playback_speed=1.111111)  # Adjust playback speed as needed\n",
    "    \n",
    "    # Export phonk-styled audio\n",
    "    phonk_audio.export(\"phonk_vocal_female_tone.wav\", format=\"wav\")\n",
    "\n",
    "convert_to_phonk(\"latest_input.wav\")"
   ]
  },
  {
   "cell_type": "markdown",
   "metadata": {},
   "source": [
    "#### 2nd Try with New Output Male"
   ]
  },
  {
   "cell_type": "code",
   "execution_count": 2,
   "metadata": {},
   "outputs": [],
   "source": [
    "from pydub import AudioSegment\n",
    "from pydub.effects import speedup\n",
    "\n",
    "def convert_to_phonk(file_path):\n",
    "    audio = AudioSegment.from_mp3(file_path)\n",
    "    \n",
    "    # Pitch shift (simple approach by changing frame rate)\n",
    "    pitch_shifted = audio._spawn(audio.raw_data, overrides={\n",
    "         \"frame_rate\": int(audio.frame_rate * 0.79)  # Adjust this factor as needed\n",
    "    }).set_frame_rate(audio.frame_rate)\n",
    "    \n",
    "    # Speed up slightly for phonk effect\n",
    "    phonk_audio = speedup(pitch_shifted, playback_speed=1.4)  # Adjust playback speed as needed\n",
    "    \n",
    "    # Export phonk-styled audio\n",
    "    phonk_audio.export(\"phonk_vocal_male_tone.wav\", format=\"wav\")\n",
    "\n",
    "convert_to_phonk(\"latest_input.wav\")"
   ]
  },
  {
   "cell_type": "markdown",
   "metadata": {},
   "source": [
    "### Adding the beat to the Male and Female Audio"
   ]
  },
  {
   "cell_type": "code",
   "execution_count": 4,
   "metadata": {},
   "outputs": [],
   "source": [
    "import numpy as np\n",
    "import librosa\n",
    "import soundfile as sf\n",
    "import audioread\n",
    "\n",
    "def load_audio_with_fallback(file_path, sr=None):\n",
    "    try:\n",
    "        return librosa.load(file_path, sr=sr)\n",
    "    except Exception as e:\n",
    "        print(f\"Failed to load with librosa due to: {e}. Falling back to audioread.\")\n",
    "        with audioread.audio_open(file_path) as f:\n",
    "            data = np.hstack([np.frombuffer(chunk, np.int16) for chunk in f])\n",
    "            if sr is not None:\n",
    "                data = librosa.resample(data.astype(float), f.samplerate, sr)\n",
    "            return data, sr\n",
    "\n",
    "def mix_vocals_and_beat(vocals_filename, beat_filename, output_filename, beat_start_time=0):\n",
    "    vocals, sr_vocals = load_audio_with_fallback(vocals_filename, sr=None)\n",
    "    beat, sr_beat = load_audio_with_fallback(beat_filename, sr=sr_vocals)\n",
    "\n",
    "    start_sample = int(beat_start_time * sr_beat)\n",
    "    if start_sample < len(beat):\n",
    "        beat = np.concatenate((np.zeros(start_sample), beat))\n",
    "    else:\n",
    "        raise ValueError(\"Beat start time exceeds the length of the beat track.\")\n",
    "\n",
    "    # Ensure both tracks are of the same length\n",
    "    max_length = max(len(vocals), len(beat))\n",
    "    if len(vocals) < max_length:\n",
    "        vocals = np.concatenate((vocals, np.zeros(max_length - len(vocals))))\n",
    "    if len(beat) < max_length:\n",
    "        beat = np.concatenate((beat, np.zeros(max_length - len(beat))))\n",
    "\n",
    "    mixed = vocals + beat\n",
    "    mixed = mixed / np.max(np.abs(mixed))\n",
    "\n",
    "    sf.write(output_filename, mixed, sr_vocals)\n",
    "\n",
    "def main():\n",
    "    vocals_file = r\"phonk_vocal_female_tone.wav\"\n",
    "    beat_file = r\"only_beat.wav\"\n",
    "    output_file = r\"Phonk_Female_Final.wav\"\n",
    "\n",
    "    mix_vocals_and_beat(vocals_file, beat_file, output_file, beat_start_time=0)\n",
    "\n",
    "if __name__ == \"__main__\":\n",
    "    main()"
   ]
  },
  {
   "cell_type": "code",
   "execution_count": 69,
   "metadata": {},
   "outputs": [],
   "source": [
    "import numpy as np\n",
    "import librosa\n",
    "import soundfile as sf\n",
    "import audioread\n",
    "\n",
    "def simple_delay_reverb(audio, sr, delay_ms=0, decay=0, repeats=0):\n",
    "    delay_samples = int(sr * delay_ms / 1000)\n",
    "    output = np.copy(audio)\n",
    "    for _ in range(repeats):\n",
    "        delayed = np.zeros_like(output)\n",
    "        delayed[delay_samples:] = output[:-delay_samples]\n",
    "        output += delayed * decay\n",
    "    output = output / np.max(np.abs(output))\n",
    "    return output\n",
    "\n",
    "def load_audio_with_fallback(file_path, sr=None):\n",
    "    try:\n",
    "        return librosa.load(file_path, sr=sr)\n",
    "    except Exception as e:\n",
    "        print(f\"Failed to load with librosa due to: {e}. Falling back to audioread.\")\n",
    "        with audioread.audio_open(file_path) as f:\n",
    "            data = np.hstack([np.frombuffer(chunk, np.int16) for chunk in f])\n",
    "            if sr is not None:\n",
    "                data = librosa.resample(data.astype(float), f.samplerate, sr)\n",
    "            return data, sr\n",
    "\n",
    "def modify_vocals(vocals_filename, beat_filename, output_filename, volume_gain=2.0, beat_start_time=0.0, pitch_shift_semitones=0):\n",
    "    vocals, sr_vocals = load_audio_with_fallback(vocals_filename, sr=None)\n",
    "    beat, sr_beat = load_audio_with_fallback(beat_filename, sr=sr_vocals)\n",
    "\n",
    "    if pitch_shift_semitones != 0:\n",
    "        vocals = librosa.effects.pitch_shift(vocals, sr_vocals, pitch_shift_semitones)\n",
    "\n",
    "    vocals = simple_delay_reverb(vocals, sr_vocals)\n",
    "\n",
    "    start_sample = int(beat_start_time * sr_beat)\n",
    "    if start_sample < len(beat):\n",
    "        beat = beat[start_sample:]\n",
    "    else:\n",
    "        raise ValueError(\"Beat start time exceeds the length of the beat track.\")\n",
    "\n",
    "    vocals = vocals * volume_gain\n",
    "\n",
    "    min_length = min(len(vocals), len(beat))\n",
    "    vocals = vocals[:min_length]\n",
    "    beat = beat[:min_length]\n",
    "\n",
    "    mixed = vocals + beat\n",
    "    mixed = mixed / np.max(np.abs(mixed))\n",
    "\n",
    "    sf.write(output_filename, mixed, sr_vocals)\n",
    "\n",
    "def main():\n",
    "    vocals_file = r\"phonk_vocal_male_tone.wav\"\n",
    "    beat_file = r\"NewBeatYT.wav\"\n",
    "    output_file = r\"zMalePhonk.wav\"\n",
    "\n",
    "    modify_vocals(vocals_file, beat_file, output_file, volume_gain=3.0, beat_start_time=14.25, pitch_shift_semitones=0)\n",
    "\n",
    "if __name__ == \"__main__\":\n",
    "    main()"
   ]
  }
 ],
 "metadata": {
  "kernelspec": {
   "display_name": "base",
   "language": "python",
   "name": "python3"
  },
  "language_info": {
   "codemirror_mode": {
    "name": "ipython",
    "version": 3
   },
   "file_extension": ".py",
   "mimetype": "text/x-python",
   "name": "python",
   "nbconvert_exporter": "python",
   "pygments_lexer": "ipython3",
   "version": "3.11.5"
  }
 },
 "nbformat": 4,
 "nbformat_minor": 2
}
